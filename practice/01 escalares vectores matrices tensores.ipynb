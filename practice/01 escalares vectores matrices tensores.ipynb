{
 "cells": [
  {
   "cell_type": "code",
   "execution_count": 1,
   "metadata": {},
   "outputs": [
    {
     "name": "stdout",
     "output_type": "stream",
     "text": [
      "5.678\n"
     ]
    }
   ],
   "source": [
    "escalar = 5.678\n",
    "print(escalar)"
   ]
  },
  {
   "cell_type": "code",
   "execution_count": 2,
   "metadata": {},
   "outputs": [
    {
     "name": "stdout",
     "output_type": "stream",
     "text": [
      "True\n",
      "<class 'bool'>\n"
     ]
    }
   ],
   "source": [
    "escalar_python = True\n",
    "print(escalar_python)\n",
    "print(type(escalar_python))"
   ]
  },
  {
   "cell_type": "code",
   "execution_count": 3,
   "metadata": {},
   "outputs": [],
   "source": [
    "import numpy as np "
   ]
  },
  {
   "cell_type": "code",
   "execution_count": 5,
   "metadata": {},
   "outputs": [
    {
     "name": "stdout",
     "output_type": "stream",
     "text": [
      "[1 2 3 4]\n"
     ]
    }
   ],
   "source": [
    "vector = np.array([1,2,3,4])\n",
    "print(vector)"
   ]
  },
  {
   "cell_type": "code",
   "execution_count": 6,
   "metadata": {},
   "outputs": [
    {
     "name": "stdout",
     "output_type": "stream",
     "text": [
      "[[1 2 3]\n",
      " [4 5 6]\n",
      " [7 8 9]]\n"
     ]
    }
   ],
   "source": [
    "matriz = np.array([[1,2,3],[4,5,6],[7,8,9]])\n",
    "print(matriz)"
   ]
  },
  {
   "cell_type": "code",
   "execution_count": 10,
   "metadata": {},
   "outputs": [
    {
     "name": "stdout",
     "output_type": "stream",
     "text": [
      "[[[ 1  2  3]\n",
      "  [ 4  5  6]\n",
      "  [ 6  7  8]]\n",
      "\n",
      " [[11 12 13]\n",
      "  [14 15 16]\n",
      "  [17 18 19]]\n",
      "\n",
      " [[21 22 23]\n",
      "  [24 25 26]\n",
      "  [27 28 29]]]\n"
     ]
    }
   ],
   "source": [
    "tensor = np.array([\n",
    "    [[1,2,3],[4,5,6],[6,7,8]],\n",
    "    [[11,12,13],[14,15,16],[17,18,19]],\n",
    "    [[21,22,23],[24,25,26],[27,28,29]],\n",
    "])\n",
    "\n",
    "print(tensor)"
   ]
  },
  {
   "cell_type": "code",
   "execution_count": 11,
   "metadata": {},
   "outputs": [],
   "source": [
    "%matplotlib inline\n",
    "import matplotlib.pyplot as plt "
   ]
  },
  {
   "cell_type": "code",
   "execution_count": 14,
   "metadata": {},
   "outputs": [
    {
     "data": {
      "image/png": "[encoded data removed]",
      "text/plain": [
       "<Figure size 640x480 with 1 Axes>"
      ]
     },
     "metadata": {},
     "output_type": "display_data"
    }
   ],
   "source": [
    "plt.imshow(tensor,interpolation=\"nearest\")\n",
    "plt.show()"
   ]
  },
  {
   "cell_type": "code",
   "execution_count": 15,
   "metadata": {},
   "outputs": [
    {
     "name": "stdout",
     "output_type": "stream",
     "text": [
      "\u001b[0;31mSignature:\u001b[0m\n",
      "\u001b[0mplt\u001b[0m\u001b[0;34m.\u001b[0m\u001b[0mimshow\u001b[0m\u001b[0;34m(\u001b[0m\u001b[0;34m\u001b[0m\n",
      "\u001b[0;34m\u001b[0m    \u001b[0mX\u001b[0m\u001b[0;34m:\u001b[0m \u001b[0;34m'ArrayLike | PIL.Image.Image'\u001b[0m\u001b[0;34m,\u001b[0m\u001b[0;34m\u001b[0m\n",
      "\u001b[0;34m\u001b[0m    \u001b[0mcmap\u001b[0m\u001b[0;34m:\u001b[0m \u001b[0;34m'str | Colormap | None'\u001b[0m \u001b[0;34m=\u001b[0m \u001b[0;32mNone\u001b[0m\u001b[0;34m,\u001b[0m\u001b[0;34m\u001b[0m\n",
      "\u001b[0;34m\u001b[0m    \u001b[0mnorm\u001b[0m\u001b[0;34m:\u001b[0m \u001b[0;34m'str | Normalize | None'\u001b[0m \u001b[0;34m=\u001b[0m \u001b[0;32mNone\u001b[0m\u001b[0;34m,\u001b[0m\u001b[0;34m\u001b[0m\n",
      "\u001b[0;34m\u001b[0m    \u001b[0;34m*\u001b[0m\u001b[0;34m,\u001b[0m\u001b[0;34m\u001b[0m\n",
      "\u001b[0;34m\u001b[0m    \u001b[0maspect\u001b[0m\u001b[0;34m:\u001b[0m \u001b[0;34m\"Literal['equal', 'auto'] | float | None\"\u001b[0m \u001b[0;34m=\u001b[0m \u001b[0;32mNone\u001b[0m\u001b[0;34m,\u001b[0m\u001b[0;34m\u001b[0m\n",
      "\u001b[0;34m\u001b[0m    \u001b[0minterpolation\u001b[0m\u001b[0;34m:\u001b[0m \u001b[0;34m'str | None'\u001b[0m \u001b[0;34m=\u001b[0m \u001b[0;32mNone\u001b[0m\u001b[0;34m,\u001b[0m\u001b[0;34m\u001b[0m\n",
      "\u001b[0;34m\u001b[0m    \u001b[0malpha\u001b[0m\u001b[0;34m:\u001b[0m \u001b[0;34m'float | ArrayLike | None'\u001b[0m \u001b[0;34m=\u001b[0m \u001b[0;32mNone\u001b[0m\u001b[0;34m,\u001b[0m\u001b[0;34m\u001b[0m\n",
      "\u001b[0;34m\u001b[0m    \u001b[0mvmin\u001b[0m\u001b[0;34m:\u001b[0m \u001b[0;34m'float | None'\u001b[0m \u001b[0;34m=\u001b[0m \u001b[0;32mNone\u001b[0m\u001b[0;34m,\u001b[0m\u001b[0;34m\u001b[0m\n",
      "\u001b[0;34m\u001b[0m    \u001b[0mvmax\u001b[0m\u001b[0;34m:\u001b[0m \u001b[0;34m'float | None'\u001b[0m \u001b[0;34m=\u001b[0m \u001b[0;32mNone\u001b[0m\u001b[0;34m,\u001b[0m\u001b[0;34m\u001b[0m\n",
      "\u001b[0;34m\u001b[0m    \u001b[0morigin\u001b[0m\u001b[0;34m:\u001b[0m \u001b[0;34m\"Literal['upper', 'lower'] | None\"\u001b[0m \u001b[0;34m=\u001b[0m \u001b[0;32mNone\u001b[0m\u001b[0;34m,\u001b[0m\u001b[0;34m\u001b[0m\n",
      "\u001b[0;34m\u001b[0m    \u001b[0mextent\u001b[0m\u001b[0;34m:\u001b[0m \u001b[0;34m'tuple[float, float, float, float] | None'\u001b[0m \u001b[0;34m=\u001b[0m \u001b[0;32mNone\u001b[0m\u001b[0;34m,\u001b[0m\u001b[0;34m\u001b[0m\n",
      "\u001b[0;34m\u001b[0m    \u001b[0minterpolation_stage\u001b[0m\u001b[0;34m:\u001b[0m \u001b[0;34m\"Literal['data', 'rgba'] | None\"\u001b[0m \u001b[0;34m=\u001b[0m \u001b[0;32mNone\u001b[0m\u001b[0;34m,\u001b[0m\u001b[0;34m\u001b[0m\n",
      "\u001b[0;34m\u001b[0m    \u001b[0mfilternorm\u001b[0m\u001b[0;34m:\u001b[0m \u001b[0;34m'bool'\u001b[0m \u001b[0;34m=\u001b[0m \u001b[0;32mTrue\u001b[0m\u001b[0;34m,\u001b[0m\u001b[0;34m\u001b[0m\n",
      "\u001b[0;34m\u001b[0m    \u001b[0mfilterrad\u001b[0m\u001b[0;34m:\u001b[0m \u001b[0;34m'float'\u001b[0m \u001b[0;34m=\u001b[0m \u001b[0;36m4.0\u001b[0m\u001b[0;34m,\u001b[0m\u001b[0;34m\u001b[0m\n",
      "\u001b[0;34m\u001b[0m    \u001b[0mresample\u001b[0m\u001b[0;34m:\u001b[0m \u001b[0;34m'bool | None'\u001b[0m \u001b[0;34m=\u001b[0m \u001b[0;32mNone\u001b[0m\u001b[0;34m,\u001b[0m\u001b[0;34m\u001b[0m\n",
      "\u001b[0;34m\u001b[0m    \u001b[0murl\u001b[0m\u001b[0;34m:\u001b[0m \u001b[0;34m'str | None'\u001b[0m \u001b[0;34m=\u001b[0m \u001b[0;32mNone\u001b[0m\u001b[0;34m,\u001b[0m\u001b[0;34m\u001b[0m\n",
      "\u001b[0;34m\u001b[0m    \u001b[0mdata\u001b[0m\u001b[0;34m=\u001b[0m\u001b[0;32mNone\u001b[0m\u001b[0;34m,\u001b[0m\u001b[0;34m\u001b[0m\n",
      "\u001b[0;34m\u001b[0m    \u001b[0;34m**\u001b[0m\u001b[0mkwargs\u001b[0m\u001b[0;34m,\u001b[0m\u001b[0;34m\u001b[0m\n",
      "\u001b[0;34m\u001b[0m\u001b[0;34m)\u001b[0m \u001b[0;34m->\u001b[0m \u001b[0;34m'AxesImage'\u001b[0m\u001b[0;34m\u001b[0m\u001b[0;34m\u001b[0m\u001b[0m\n",
      "\u001b[0;31mDocstring:\u001b[0m\n",
      "Display data as an image, i.e., on a 2D regular raster.\n",
      "\n",
      "The input may either be actual RGB(A) data, or 2D scalar data, which\n",
      "will be rendered as a pseudocolor image. For displaying a grayscale\n",
      "image, set up the colormapping using the parameters\n",
      "``cmap='gray', vmin=0, vmax=255``.\n",
      "\n",
      "The number of pixels used to render an image is set by the Axes size\n",
      "and the figure *dpi*. This can lead to aliasing artifacts when\n",
      "the image is resampled, because the displayed image size will usually\n",
      "not match the size of *X* (see\n",
      ":doc:`/gallery/images_contours_and_fields/image_antialiasing`).\n",
      "The resampling can be controlled via the *interpolation* parameter\n",
      "and/or :rc:`image.interpolation`.\n",
      "\n",
      "Parameters\n",
      "----------\n",
      "X : array-like or PIL image\n",
      "    The image data. Supported array shapes are:\n",
      "\n",
      "    - (M, N): an image with scalar data. The values are mapped to\n",
      "      colors using normalization and a colormap. See parameters *norm*,\n",
      "      *cmap*, *vmin*, *vmax*.\n",
      "    - (M, N, 3): an image with RGB values (0-1 float or 0-255 int).\n",
      "    - (M, N, 4): an image with RGBA values (0-1 float or 0-255 int),\n",
      "      i.e. including transparency.\n",
      "\n",
      "    The first two dimensions (M, N) define the rows and columns of\n",
      "    the image.\n",
      "\n",
      "    Out-of-range RGB(A) values are clipped.\n",
      "\n",
      "cmap : str or `~matplotlib.colors.Colormap`, default: :rc:`image.cmap`\n",
      "    The Colormap instance or registered colormap name used to map scalar data\n",
      "    to colors.\n",
      "\n",
      "    This parameter is ignored if *X* is RGB(A).\n",
      "\n",
      "norm : str or `~matplotlib.colors.Normalize`, optional\n",
      "    The normalization method used to scale scalar data to the [0, 1] range\n",
      "    before mapping to colors using *cmap*. By default, a linear scaling is\n",
      "    used, mapping the lowest value to 0 and the highest to 1.\n",
      "\n",
      "    If given, this can be one of the following:\n",
      "\n",
      "    - An instance of `.Normalize` or one of its subclasses\n",
      "      (see :ref:`colormapnorms`).\n",
      "    - A scale name, i.e. one of \"linear\", \"log\", \"symlog\", \"logit\", etc.  For a\n",
      "      list of available scales, call `matplotlib.scale.get_scale_names()`.\n",
      "      In that case, a suitable `.Normalize` subclass is dynamically generated\n",
      "      and instantiated.\n",
      "\n",
      "    This parameter is ignored if *X* is RGB(A).\n",
      "\n",
      "vmin, vmax : float, optional\n",
      "    When using scalar data and no explicit *norm*, *vmin* and *vmax* define\n",
      "    the data range that the colormap covers. By default, the colormap covers\n",
      "    the complete value range of the supplied data. It is an error to use\n",
      "    *vmin*/*vmax* when a *norm* instance is given (but using a `str` *norm*\n",
      "    name together with *vmin*/*vmax* is acceptable).\n",
      "\n",
      "    This parameter is ignored if *X* is RGB(A).\n",
      "\n",
      "aspect : {'equal', 'auto'} or float or None, default: None\n",
      "    The aspect ratio of the Axes.  This parameter is particularly\n",
      "    relevant for images since it determines whether data pixels are\n",
      "    square.\n",
      "\n",
      "    This parameter is a shortcut for explicitly calling\n",
      "    `.Axes.set_aspect`. See there for further details.\n",
      "\n",
      "    - 'equal': Ensures an aspect ratio of 1. Pixels will be square\n",
      "      (unless pixel sizes are explicitly made non-square in data\n",
      "      coordinates using *extent*).\n",
      "    - 'auto': The Axes is kept fixed and the aspect is adjusted so\n",
      "      that the data fit in the Axes. In general, this will result in\n",
      "      non-square pixels.\n",
      "\n",
      "    Normally, None (the default) means to use :rc:`image.aspect`.  However, if\n",
      "    the image uses a transform that does not contain the axes data transform,\n",
      "    then None means to not modify the axes aspect at all (in that case, directly\n",
      "    call `.Axes.set_aspect` if desired).\n",
      "\n",
      "interpolation : str, default: :rc:`image.interpolation`\n",
      "    The interpolation method used.\n",
      "\n",
      "    Supported values are 'none', 'antialiased', 'nearest', 'bilinear',\n",
      "    'bicubic', 'spline16', 'spline36', 'hanning', 'hamming', 'hermite',\n",
      "    'kaiser', 'quadric', 'catrom', 'gaussian', 'bessel', 'mitchell',\n",
      "    'sinc', 'lanczos', 'blackman'.\n",
      "\n",
      "    The data *X* is resampled to the pixel size of the image on the\n",
      "    figure canvas, using the interpolation method to either up- or\n",
      "    downsample the data.\n",
      "\n",
      "    If *interpolation* is 'none', then for the ps, pdf, and svg\n",
      "    backends no down- or upsampling occurs, and the image data is\n",
      "    passed to the backend as a native image.  Note that different ps,\n",
      "    pdf, and svg viewers may display these raw pixels differently. On\n",
      "    other backends, 'none' is the same as 'nearest'.\n",
      "\n",
      "    If *interpolation* is the default 'antialiased', then 'nearest'\n",
      "    interpolation is used if the image is upsampled by more than a\n",
      "    factor of three (i.e. the number of display pixels is at least\n",
      "    three times the size of the data array).  If the upsampling rate is\n",
      "    smaller than 3, or the image is downsampled, then 'hanning'\n",
      "    interpolation is used to act as an anti-aliasing filter, unless the\n",
      "    image happens to be upsampled by exactly a factor of two or one.\n",
      "\n",
      "    See\n",
      "    :doc:`/gallery/images_contours_and_fields/interpolation_methods`\n",
      "    for an overview of the supported interpolation methods, and\n",
      "    :doc:`/gallery/images_contours_and_fields/image_antialiasing` for\n",
      "    a discussion of image antialiasing.\n",
      "\n",
      "    Some interpolation methods require an additional radius parameter,\n",
      "    which can be set by *filterrad*. Additionally, the antigrain image\n",
      "    resize filter is controlled by the parameter *filternorm*.\n",
      "\n",
      "interpolation_stage : {'data', 'rgba'}, default: 'data'\n",
      "    If 'data', interpolation\n",
      "    is carried out on the data provided by the user.  If 'rgba', the\n",
      "    interpolation is carried out after the colormapping has been\n",
      "    applied (visual interpolation).\n",
      "\n",
      "alpha : float or array-like, optional\n",
      "    The alpha blending value, between 0 (transparent) and 1 (opaque).\n",
      "    If *alpha* is an array, the alpha blending values are applied pixel\n",
      "    by pixel, and *alpha* must have the same shape as *X*.\n",
      "\n",
      "origin : {'upper', 'lower'}, default: :rc:`image.origin`\n",
      "    Place the [0, 0] index of the array in the upper left or lower\n",
      "    left corner of the Axes. The convention (the default) 'upper' is\n",
      "    typically used for matrices and images.\n",
      "\n",
      "    Note that the vertical axis points upward for 'lower'\n",
      "    but downward for 'upper'.\n",
      "\n",
      "    See the :ref:`imshow_extent` tutorial for\n",
      "    examples and a more detailed description.\n",
      "\n",
      "extent : floats (left, right, bottom, top), optional\n",
      "    The bounding box in data coordinates that the image will fill.\n",
      "    These values may be unitful and match the units of the Axes.\n",
      "    The image is stretched individually along x and y to fill the box.\n",
      "\n",
      "    The default extent is determined by the following conditions.\n",
      "    Pixels have unit size in data coordinates. Their centers are on\n",
      "    integer coordinates, and their center coordinates range from 0 to\n",
      "    columns-1 horizontally and from 0 to rows-1 vertically.\n",
      "\n",
      "    Note that the direction of the vertical axis and thus the default\n",
      "    values for top and bottom depend on *origin*:\n",
      "\n",
      "    - For ``origin == 'upper'`` the default is\n",
      "      ``(-0.5, numcols-0.5, numrows-0.5, -0.5)``.\n",
      "    - For ``origin == 'lower'`` the default is\n",
      "      ``(-0.5, numcols-0.5, -0.5, numrows-0.5)``.\n",
      "\n",
      "    See the :ref:`imshow_extent` tutorial for\n",
      "    examples and a more detailed description.\n",
      "\n",
      "filternorm : bool, default: True\n",
      "    A parameter for the antigrain image resize filter (see the\n",
      "    antigrain documentation).  If *filternorm* is set, the filter\n",
      "    normalizes integer values and corrects the rounding errors. It\n",
      "    doesn't do anything with the source floating point values, it\n",
      "    corrects only integers according to the rule of 1.0 which means\n",
      "    that any sum of pixel weights must be equal to 1.0.  So, the\n",
      "    filter function must produce a graph of the proper shape.\n",
      "\n",
      "filterrad : float > 0, default: 4.0\n",
      "    The filter radius for filters that have a radius parameter, i.e.\n",
      "    when interpolation is one of: 'sinc', 'lanczos' or 'blackman'.\n",
      "\n",
      "resample : bool, default: :rc:`image.resample`\n",
      "    When *True*, use a full resampling method.  When *False*, only\n",
      "    resample when the output image is larger than the input image.\n",
      "\n",
      "url : str, optional\n",
      "    Set the url of the created `.AxesImage`. See `.Artist.set_url`.\n",
      "\n",
      "Returns\n",
      "-------\n",
      "`~matplotlib.image.AxesImage`\n",
      "\n",
      "Other Parameters\n",
      "----------------\n",
      "data : indexable object, optional\n",
      "    If given, all parameters also accept a string ``s``, which is\n",
      "    interpreted as ``data[s]`` (unless this raises an exception).\n",
      "\n",
      "**kwargs : `~matplotlib.artist.Artist` properties\n",
      "    These parameters are passed on to the constructor of the\n",
      "    `.AxesImage` artist.\n",
      "\n",
      "See Also\n",
      "--------\n",
      "matshow : Plot a matrix or an array as an image.\n",
      "\n",
      "Notes\n",
      "-----\n",
      "Unless *extent* is used, pixel centers will be located at integer\n",
      "coordinates. In other words: the origin will coincide with the center\n",
      "of pixel (0, 0).\n",
      "\n",
      "There are two common representations for RGB images with an alpha\n",
      "channel:\n",
      "\n",
      "-   Straight (unassociated) alpha: R, G, and B channels represent the\n",
      "    color of the pixel, disregarding its opacity.\n",
      "-   Premultiplied (associated) alpha: R, G, and B channels represent\n",
      "    the color of the pixel, adjusted for its opacity by multiplication.\n",
      "\n",
      "`~matplotlib.pyplot.imshow` expects RGB images adopting the straight\n",
      "(unassociated) alpha representation.\n",
      "\u001b[0;31mFile:\u001b[0m      ~/anaconda3/lib/python3.11/site-packages/matplotlib/pyplot.py\n",
      "\u001b[0;31mType:\u001b[0m      function"
     ]
    }
   ],
   "source": [
    "?plt.imshow"
   ]
  },
  {
   "cell_type": "code",
   "execution_count": 27,
   "metadata": {},
   "outputs": [
    {
     "data": {
      "text/plain": [
       "<matplotlib.image.AxesImage at 0x117198a10>"
      ]
     },
     "execution_count": 27,
     "metadata": {},
     "output_type": "execute_result"
    },
    {
     "data": {
      "image/png": "[encoded data removed]",
      "text/plain": [
       "<Figure size 640x480 with 1 Axes>"
      ]
     },
     "metadata": {},
     "output_type": "display_data"
    }
   ],
   "source": [
    "# Peruvian flag\n",
    "tensor_peru = np.array([\n",
    "    [[255,0,0],[255,255,255],[255,0,0]],\n",
    "    [[255,0,0],[255,255,255],[255,0,0]]\n",
    "])\n",
    "\n",
    "plt.imshow(tensor_peru,interpolation=\"nearest\")"
   ]
  }
 ],
 "metadata": {
  "kernelspec": {
   "display_name": "base",
   "language": "python",
   "name": "python3"
  },
  "language_info": {
   "codemirror_mode": {
    "name": "ipython",
    "version": 3
   },
   "file_extension": ".py",
   "mimetype": "text/x-python",
   "name": "python",
   "nbconvert_exporter": "python",
   "pygments_lexer": "ipython3",
   "version": "3.11.7"
  }
 },
 "nbformat": 4,
 "nbformat_minor": 2
}
