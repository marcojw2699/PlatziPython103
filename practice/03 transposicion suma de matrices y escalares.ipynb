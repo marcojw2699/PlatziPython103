{
 "cells": [
  {
   "cell_type": "code",
   "execution_count": 1,
   "metadata": {},
   "outputs": [],
   "source": [
    "import numpy as np "
   ]
  },
  {
   "cell_type": "code",
   "execution_count": 3,
   "metadata": {},
   "outputs": [],
   "source": [
    "escalar = 5.679\n",
    "vector = np.array([3,4,5,6])\n",
    "matriz = np.array([[1,2],[3,4],[5,6]])\n",
    "tensor = np.array([\n",
    "    [[1,2,3,30],[4,5,6,31],[6,7,8,32]],\n",
    "    [[11,12,13,33],[14,15,16,34],[17,18,19,35]],\n",
    "    [[21,22,23,36],[24,25,26,37],[27,28,29,38]]])\n"
   ]
  },
  {
   "cell_type": "code",
   "execution_count": 4,
   "metadata": {},
   "outputs": [
    {
     "ename": "AttributeError",
     "evalue": "'float' object has no attribute 'T'",
     "output_type": "error",
     "traceback": [
      "\u001b[0;31m---------------------------------------------------------------------------\u001b[0m",
      "\u001b[0;31mAttributeError\u001b[0m                            Traceback (most recent call last)",
      "Cell \u001b[0;32mIn[4], line 1\u001b[0m\n\u001b[0;32m----> 1\u001b[0m escalar_t \u001b[38;5;241m=\u001b[39m escalar\u001b[38;5;241m.\u001b[39mT\n",
      "\u001b[0;31mAttributeError\u001b[0m: 'float' object has no attribute 'T'"
     ]
    }
   ],
   "source": [
    "escalar_t = escalar.T"
   ]
  },
  {
   "cell_type": "code",
   "execution_count": 5,
   "metadata": {},
   "outputs": [
    {
     "name": "stdout",
     "output_type": "stream",
     "text": [
      "[3 4 5 6]\n"
     ]
    }
   ],
   "source": [
    "vector_t = vector.T \n",
    "print(vector_t)"
   ]
  },
  {
   "cell_type": "code",
   "execution_count": 6,
   "metadata": {},
   "outputs": [
    {
     "name": "stdout",
     "output_type": "stream",
     "text": [
      "[[1 3 5]\n",
      " [2 4 6]]\n"
     ]
    }
   ],
   "source": [
    "matriz_t = matriz.T\n",
    "print(matriz_t)"
   ]
  },
  {
   "cell_type": "code",
   "execution_count": 7,
   "metadata": {},
   "outputs": [
    {
     "name": "stdout",
     "output_type": "stream",
     "text": [
      "(3, 2)\n",
      "(2, 3)\n"
     ]
    }
   ],
   "source": [
    "print(matriz.shape)\n",
    "print(matriz_t.shape)"
   ]
  },
  {
   "cell_type": "code",
   "execution_count": 8,
   "metadata": {},
   "outputs": [
    {
     "name": "stdout",
     "output_type": "stream",
     "text": [
      "[[[ 1 11 21]\n",
      "  [ 4 14 24]\n",
      "  [ 6 17 27]]\n",
      "\n",
      " [[ 2 12 22]\n",
      "  [ 5 15 25]\n",
      "  [ 7 18 28]]\n",
      "\n",
      " [[ 3 13 23]\n",
      "  [ 6 16 26]\n",
      "  [ 8 19 29]]\n",
      "\n",
      " [[30 33 36]\n",
      "  [31 34 37]\n",
      "  [32 35 38]]]\n"
     ]
    }
   ],
   "source": [
    "tensor_t = tensor.T \n",
    "print(tensor_t)"
   ]
  },
  {
   "cell_type": "code",
   "execution_count": 10,
   "metadata": {},
   "outputs": [
    {
     "name": "stdout",
     "output_type": "stream",
     "text": [
      "[[ True  True]\n",
      " [ True  True]\n",
      " [ True  True]]\n"
     ]
    }
   ],
   "source": [
    "matriz_t_t = matriz_t.T\n",
    "print(matriz_t_t == matriz)"
   ]
  },
  {
   "cell_type": "code",
   "execution_count": 11,
   "metadata": {},
   "outputs": [],
   "source": [
    "A = matriz \n",
    "B = matriz_t "
   ]
  },
  {
   "cell_type": "code",
   "execution_count": 13,
   "metadata": {},
   "outputs": [
    {
     "ename": "ValueError",
     "evalue": "operands could not be broadcast together with shapes (3,2) (2,3) ",
     "output_type": "error",
     "traceback": [
      "\u001b[0;31m---------------------------------------------------------------------------\u001b[0m",
      "\u001b[0;31mValueError\u001b[0m                                Traceback (most recent call last)",
      "Cell \u001b[0;32mIn[13], line 1\u001b[0m\n\u001b[0;32m----> 1\u001b[0m C \u001b[38;5;241m=\u001b[39m A\u001b[38;5;241m+\u001b[39mB\n",
      "\u001b[0;31mValueError\u001b[0m: operands could not be broadcast together with shapes (3,2) (2,3) "
     ]
    }
   ],
   "source": [
    "C = A+B"
   ]
  },
  {
   "cell_type": "code",
   "execution_count": 16,
   "metadata": {},
   "outputs": [
    {
     "name": "stdout",
     "output_type": "stream",
     "text": [
      "[[1 2]\n",
      " [3 4]\n",
      " [5 6]]\n",
      "[[6 5]\n",
      " [4 3]\n",
      " [2 1]]\n",
      "[[7 7]\n",
      " [7 7]\n",
      " [7 7]]\n"
     ]
    }
   ],
   "source": [
    "A = np.array([[1,2],[3,4],[5,6]])\n",
    "B = np.array([[6,5],[4,3],[2,1]])\n",
    "C = A+B \n",
    "\n",
    "print(A)\n",
    "print(B)\n",
    "print(C)"
   ]
  },
  {
   "cell_type": "code",
   "execution_count": 18,
   "metadata": {},
   "outputs": [
    {
     "name": "stdout",
     "output_type": "stream",
     "text": [
      "[[ 6.679  7.679]\n",
      " [ 8.679  9.679]\n",
      " [10.679 11.679]]\n"
     ]
    }
   ],
   "source": [
    "D = matriz + escalar\n",
    "print(D)"
   ]
  }
 ],
 "metadata": {
  "kernelspec": {
   "display_name": "base",
   "language": "python",
   "name": "python3"
  },
  "language_info": {
   "codemirror_mode": {
    "name": "ipython",
    "version": 3
   },
   "file_extension": ".py",
   "mimetype": "text/x-python",
   "name": "python",
   "nbconvert_exporter": "python",
   "pygments_lexer": "ipython3",
   "version": "3.11.7"
  }
 },
 "nbformat": 4,
 "nbformat_minor": 2
}
